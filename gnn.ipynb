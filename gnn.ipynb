{
 "cells": [
  {
   "cell_type": "code",
   "execution_count": 1,
   "metadata": {},
   "outputs": [
    {
     "name": "stderr",
     "output_type": "stream",
     "text": [
      "Downloading https://github.com/kimiyoung/planetoid/raw/master/data/ind.cora.x\n",
      "Downloading https://github.com/kimiyoung/planetoid/raw/master/data/ind.cora.tx\n",
      "Downloading https://github.com/kimiyoung/planetoid/raw/master/data/ind.cora.allx\n",
      "Downloading https://github.com/kimiyoung/planetoid/raw/master/data/ind.cora.y\n",
      "Downloading https://github.com/kimiyoung/planetoid/raw/master/data/ind.cora.ty\n",
      "Downloading https://github.com/kimiyoung/planetoid/raw/master/data/ind.cora.ally\n",
      "Downloading https://github.com/kimiyoung/planetoid/raw/master/data/ind.cora.graph\n",
      "Downloading https://github.com/kimiyoung/planetoid/raw/master/data/ind.cora.test.index\n",
      "Processing...\n",
      "Done!\n"
     ]
    },
    {
     "name": "stdout",
     "output_type": "stream",
     "text": [
      "Epoch 0, Loss: 1.9436\n",
      "Epoch 10, Loss: 0.6898\n",
      "Epoch 20, Loss: 0.1426\n",
      "Epoch 30, Loss: 0.0343\n",
      "Epoch 40, Loss: 0.0161\n",
      "Epoch 50, Loss: 0.0134\n",
      "Epoch 60, Loss: 0.0144\n",
      "Epoch 70, Loss: 0.0161\n",
      "Epoch 80, Loss: 0.0169\n",
      "Epoch 90, Loss: 0.0167\n",
      "Epoch 100, Loss: 0.0158\n",
      "Epoch 110, Loss: 0.0149\n",
      "Epoch 120, Loss: 0.0141\n",
      "Epoch 130, Loss: 0.0134\n",
      "Epoch 140, Loss: 0.0128\n",
      "Epoch 150, Loss: 0.0122\n",
      "Epoch 160, Loss: 0.0118\n",
      "Epoch 170, Loss: 0.0113\n",
      "Epoch 180, Loss: 0.0110\n",
      "Epoch 190, Loss: 0.0106\n",
      "Test Accuracy: 0.8030\n"
     ]
    }
   ],
   "source": [
    "import torch\n",
    "import torch.nn.functional as F\n",
    "from torch_geometric.datasets import Planetoid\n",
    "from torch_geometric.nn import GCNConv\n",
    "\n",
    "# Load the Cora dataset\n",
    "dataset = Planetoid(root='data/Cora', name='Cora')\n",
    "data = dataset[0]\n",
    "\n",
    "# Define the GNN model\n",
    "class GCN(torch.nn.Module):\n",
    "    def __init__(self):\n",
    "        super().__init__()\n",
    "        self.conv1 = GCNConv(dataset.num_node_features, 16)\n",
    "        self.conv2 = GCNConv(16, dataset.num_classes)\n",
    "\n",
    "    def forward(self, data):\n",
    "        x, edge_index = data.x, data.edge_index\n",
    "        x = self.conv1(x, edge_index)\n",
    "        x = F.relu(x)\n",
    "        x = self.conv2(x, edge_index)\n",
    "        return F.log_softmax(x, dim=1)\n",
    "\n",
    "# Train the model\n",
    "def train():\n",
    "    model.train()\n",
    "    optimizer.zero_grad()\n",
    "    out = model(data)\n",
    "    loss = F.nll_loss(out[data.train_mask], data.y[data.train_mask])\n",
    "    loss.backward()\n",
    "    optimizer.step()\n",
    "    return loss.item()\n",
    "\n",
    "# Test the model\n",
    "def test():\n",
    "    model.eval()\n",
    "    out = model(data)\n",
    "    pred = out.argmax(dim=1)\n",
    "    correct = pred[data.test_mask] == data.y[data.test_mask]\n",
    "    acc = int(correct.sum()) / int(data.test_mask.sum())\n",
    "    return acc\n",
    "\n",
    "# Initialize model and optimizer\n",
    "model = GCN()\n",
    "optimizer = torch.optim.Adam(model.parameters(), lr=0.01, weight_decay=5e-4)\n",
    "\n",
    "# Train for 200 epochs\n",
    "for epoch in range(200):\n",
    "    loss = train()\n",
    "    if epoch % 10 == 0:\n",
    "        print(f'Epoch {epoch}, Loss: {loss:.4f}')\n",
    "\n",
    "# Evaluate the model\n",
    "accuracy = test()\n",
    "print(f'Test Accuracy: {accuracy:.4f}')\n"
   ]
  },
  {
   "cell_type": "code",
   "execution_count": 2,
   "metadata": {},
   "outputs": [
    {
     "name": "stdout",
     "output_type": "stream",
     "text": [
      "              precision    recall  f1-score   support\n",
      "\n",
      "           0       0.65      0.74      0.69       130\n",
      "           1       0.75      0.88      0.81        91\n",
      "           2       0.88      0.90      0.89       144\n",
      "           3       0.92      0.73      0.82       319\n",
      "           4       0.77      0.86      0.81       149\n",
      "           5       0.84      0.77      0.80       103\n",
      "           6       0.67      0.88      0.76        64\n",
      "\n",
      "    accuracy                           0.80      1000\n",
      "   macro avg       0.78      0.82      0.80      1000\n",
      "weighted avg       0.82      0.80      0.80      1000\n",
      "\n"
     ]
    }
   ],
   "source": [
    "from sklearn.metrics import classification_report\n",
    "\n",
    "out = model(data)\n",
    "pred = out.argmax(dim=1)\n",
    "print(classification_report(data.y[data.test_mask].cpu(), pred[data.test_mask].cpu()))\n"
   ]
  },
  {
   "cell_type": "code",
   "execution_count": 3,
   "metadata": {},
   "outputs": [
    {
     "data": {
      "image/png": "[encoded data removed]",
      "text/plain": [
       "<Figure size 640x480 with 1 Axes>"
      ]
     },
     "metadata": {},
     "output_type": "display_data"
    }
   ],
   "source": [
    "import matplotlib.pyplot as plt\n",
    "\n",
    "losses = []\n",
    "for epoch in range(200):\n",
    "    loss = train()\n",
    "    losses.append(loss)\n",
    "\n",
    "plt.plot(losses)\n",
    "plt.xlabel('Epoch')\n",
    "plt.ylabel('Loss')\n",
    "plt.title('Training Loss Curve')\n",
    "plt.show()\n"
   ]
  },
  {
   "cell_type": "code",
   "execution_count": null,
   "metadata": {},
   "outputs": [],
   "source": []
  }
 ],
 "metadata": {
  "kernelspec": {
   "display_name": "Python 3",
   "language": "python",
   "name": "python3"
  },
  "language_info": {
   "codemirror_mode": {
    "name": "ipython",
    "version": 3
   },
   "file_extension": ".py",
   "mimetype": "text/x-python",
   "name": "python",
   "nbconvert_exporter": "python",
   "pygments_lexer": "ipython3",
   "version": "3.9.6"
  }
 },
 "nbformat": 4,
 "nbformat_minor": 2
}
